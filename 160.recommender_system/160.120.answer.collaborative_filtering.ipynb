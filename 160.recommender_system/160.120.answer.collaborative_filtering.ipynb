{
 "cells": [
  {
   "cell_type": "markdown",
   "metadata": {},
   "source": [
    "![](image_text/160_13.png)\n",
    "\n",
    "![](image_text/160_14.png)\n"
   ]
  },
  {
   "cell_type": "code",
   "execution_count": null,
   "metadata": {},
   "outputs": [],
   "source": [
    "import numpy as np\n",
    "import pandas as pd\n",
    "\n",
    "# DataFrameが全て表示されない場合は以下で表示可能範囲を増やす。\n",
    "pd.set_option(\"display.max_rows\", 20) \n",
    "pd.set_option(\"display.max_columns\", 60)"
   ]
  },
  {
   "cell_type": "code",
   "execution_count": null,
   "metadata": {},
   "outputs": [],
   "source": [
    "NRANK = 10 # 低ランク近似する次元\n",
    "THRESHOLD = 0.35 # 低ランク近似した次元と元行列の差＞しきい値のセルを明るく表示する。"
   ]
  },
  {
   "cell_type": "code",
   "execution_count": null,
   "metadata": {},
   "outputs": [],
   "source": [
    "def get_data():\n",
    "    ROOT = \"..\"\n",
    "    df = pd.read_csv(f\"{ROOT}/data/group131415_div1.csv\", index_col=[0])\n",
    "    print(df.shape)\n",
    "    return df\n",
    "\n",
    "g_df = get_data() # データ取得"
   ]
  },
  {
   "cell_type": "code",
   "execution_count": null,
   "metadata": {},
   "outputs": [],
   "source": [
    "from recomm_misc import plot_df_heatmap\n",
    "plot_df_heatmap(g_df, dpi=100) # 元データ表示"
   ]
  },
  {
   "cell_type": "code",
   "execution_count": null,
   "metadata": {},
   "outputs": [],
   "source": [
    "from recomm_misc import plot_svd_sdiag\n",
    "plot_svd_sdiag(g_df.values)"
   ]
  },
  {
   "cell_type": "code",
   "execution_count": null,
   "metadata": {},
   "outputs": [],
   "source": [
    "def make_recom_svd(df, nrank):\n",
    "    \"\"\"line up candicates by SVD\n",
    "\n",
    "    Args:\n",
    "        df (pd.DataFrame): data\n",
    "        nrank (int): the maximum rank to reconstruct data\n",
    "\n",
    "    Returns:\n",
    "        pd.DataFrame: reconstruct data\n",
    "    \"\"\"\n",
    "    X = df.values\n",
    "    u, sdiag, v = np.linalg.svd(X)\n",
    "    s = np.zeros((u.shape[1], v.shape[0]))\n",
    "    s[:nrank, :nrank] = np.diag(sdiag[:nrank])\n",
    "    u = np.matrix(u)\n",
    "    v = np.matrix(v)\n",
    "    s = np.matrix(s)\n",
    "    recom_svd = u * s * v\n",
    "    return pd.DataFrame(recom_svd, index=df.index, columns=df.columns)"
   ]
  },
  {
   "cell_type": "code",
   "execution_count": null,
   "metadata": {},
   "outputs": [],
   "source": [
    "from sklearn.decomposition import NMF\n",
    "def make_recom_nmf(df, nrank):\n",
    "    \"\"\"line up candicates by NMF\n",
    "\n",
    "    Args:\n",
    "        df (pd.DataFrame): data\n",
    "        nrank (int): the maximum rank to reconstruct data\n",
    "\n",
    "    Returns:\n",
    "        pd.DataFrame: reconstruct data\n",
    "    \"\"\"\n",
    "    X = df.values\n",
    "    model = NMF(n_components=nrank, init='random',\n",
    "                shuffle=True, random_state=3)\n",
    "    W = model.fit_transform(X)\n",
    "    H = model.components_\n",
    "    W = np.matrix(W)\n",
    "    H = np.matrix(H)\n",
    "    WH = W*H\n",
    "    if False:\n",
    "        \"\"\"\n",
    "        どの程度同じか調べる．\n",
    "        \"\"\"\n",
    "        WHM = WH - X\n",
    "        for i in range(WHM.shape[0]):\n",
    "            for j in range(WHM.shape[1]):\n",
    "                if np.abs(WHM[i, j]) > 0.1:\n",
    "                    print(i, j, WHM[i, j])\n",
    "\n",
    "    recom_nmf = WH\n",
    "    return pd.DataFrame(recom_nmf, index=df.index, columns=df.columns)"
   ]
  },
  {
   "cell_type": "code",
   "execution_count": null,
   "metadata": {},
   "outputs": [],
   "source": [
    "def make_recom_correlation(df, nrank=None):\n",
    "    \"\"\"line up candicates by correlation\n",
    "\n",
    "     X[material , structuretype]とすると\n",
    "    ( X.T * X )[structuretype,structuretype] でstructuretype間の相関を与えるだろう．\n",
    "    更にXをかけると[material, structuretype]の行列になる．\n",
    "    recom = X[material , structuretype] * ( X.T * X )[structuretype,structuretype]\n",
    "    Args:\n",
    "        df (pd.DataFrame): data\n",
    "        nrank (int): the maximum rank to reconstruct data\n",
    "\n",
    "    Returns:\n",
    "        pd.DataFrame: reconstruct data\n",
    "    \"\"\"\n",
    "    # nrank はdummy\n",
    "    X = np.matrix(df.values)\n",
    "    \"\"\"\n",
    "    X[material , structuretype]とすると\n",
    "    ( X.T * X )[structuretype,structuretype] でstructuretype間の相関を与えるだろう．\n",
    "    更にXをかけると[material, structuretype]の行列になる．\n",
    "    recom = X[material , structuretype] * ( X.T * X )[structuretype,structuretype]\n",
    "    \"\"\"\n",
    "    recom = X * X.T * X\n",
    "    # X^3のオーダーになっているので[0,1]に規格化する．\n",
    "    vmax = recom.reshape(-1).max()\n",
    "    vmin = recom.reshape(-1).min()\n",
    "    recom = (recom - vmin)/(vmax-vmin)\n",
    "\n",
    "    return pd.DataFrame(recom, index=df.index, columns=df.columns)"
   ]
  },
  {
   "cell_type": "code",
   "execution_count": null,
   "metadata": {},
   "outputs": [],
   "source": [
    "print(\"nrank=\", NRANK)\n",
    "g_df_recom = make_recom_svd(g_df, NRANK)\n",
    "from recomm_misc import plot_2df\n",
    "plot_2df(g_df, g_df_recom, NRANK, THRESHOLD)\n",
    "# 低ランク近似行列と元行列との表示。差＞THRESHOLDを白く表示する。"
   ]
  },
  {
   "cell_type": "code",
   "execution_count": null,
   "metadata": {},
   "outputs": [],
   "source": [
    "# interactive 可視化\n",
    "# intel Macの方は問題が発生するかもしれない。\n",
    "import plotly.express as px\n",
    "import matplotlib.pyplot as plt\n",
    "g_fig = px.imshow(g_df_recom-g_df)\n",
    "g_fig.show()\n",
    "# plt.show()"
   ]
  },
  {
   "cell_type": "code",
   "execution_count": null,
   "metadata": {},
   "outputs": [],
   "source": [
    "def print_existence(df, df_ref, threshold=0.35):\n",
    "    \"\"\"print the points the value of which is more than threshold\n",
    "\n",
    "    Args:\n",
    "        df (pd.DataFrame): data\n",
    "        df_ref (pd.DataFrame): reference data\n",
    "        threshold (float, optional): the threshold value. Defaults to 0.3.\n",
    "    \"\"\"\n",
    "    df_ = df\n",
    "    resultlist = []\n",
    "    for name1 in df_.index:\n",
    "        for name2 in df_.columns:\n",
    "            value = df_.loc[name1, name2]\n",
    "            exist_in_ref = df_ref.loc[name1, name2]\n",
    "            if value >= threshold and exist_in_ref < 1:\n",
    "                resultlist.append([name1, name2, value, exist_in_ref < 1])\n",
    "\n",
    "    dfresult = pd.DataFrame(resultlist,\n",
    "                            columns=[\"name1\", \"name2\", \"recom-ref\", \"not_exist_ref\"])\n",
    "    return dfresult.sort_values(by=\"recom-ref\", ascending=False)\n",
    "\n",
    "print_existence(g_df_recom-g_df, g_df, threshold=THRESHOLD)\n",
    "# cellの値>THERSHOLDを存在を推薦するとして、\n",
    "# 存在が推薦される物質リストを表示する。\n",
    "# 物質の重複がある。"
   ]
  },
  {
   "cell_type": "markdown",
   "metadata": {},
   "source": [
    "![](image_text/160_21.png)\n",
    "\n",
    "![](image_text/160_22.png)\n",
    "\n",
    "\n"
   ]
  },
  {
   "cell_type": "code",
   "execution_count": null,
   "metadata": {},
   "outputs": [],
   "source": []
  }
 ],
 "metadata": {
  "kernelspec": {
   "display_name": "Python 3 (ipykernel)",
   "language": "python",
   "name": "python3"
  },
  "language_info": {
   "codemirror_mode": {
    "name": "ipython",
    "version": 3
   },
   "file_extension": ".py",
   "mimetype": "text/x-python",
   "name": "python",
   "nbconvert_exporter": "python",
   "pygments_lexer": "ipython3",
   "version": "3.10.17"
  }
 },
 "nbformat": 4,
 "nbformat_minor": 4
}
